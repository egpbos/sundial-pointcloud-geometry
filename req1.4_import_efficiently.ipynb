{
 "cells": [
  {
   "cell_type": "code",
   "execution_count": null,
   "metadata": {},
   "outputs": [],
   "source": [
    "import ectopylasm as ep\n",
    "from explore import load_example_cube, load_example, load_example_full"
   ]
  },
  {
   "cell_type": "code",
   "execution_count": null,
   "metadata": {},
   "outputs": [],
   "source": [
    "%%timeit\n",
    "\n",
    "ep.pandas_vertices_from_plyfile('data/cube.ply')"
   ]
  },
  {
   "cell_type": "code",
   "execution_count": null,
   "metadata": {},
   "outputs": [],
   "source": [
    "%%timeit\n",
    "\n",
    "plydata = load_example_cube()"
   ]
  },
  {
   "cell_type": "markdown",
   "metadata": {},
   "source": [
    "If the sundial exaple data was downloaded, one can load it and display it by uncommenting below."
   ]
  },
  {
   "cell_type": "code",
   "execution_count": null,
   "metadata": {},
   "outputs": [],
   "source": [
    "%%timeit\n",
    "\n",
    "# plydata = load_example_full()\n",
    "plydata = load_example()"
   ]
  },
  {
   "cell_type": "code",
   "execution_count": null,
   "metadata": {},
   "outputs": [],
   "source": [
    "%%timeit\n",
    "\n",
    "vertex_df = ep.pandas_vertices_from_plyfile('data/ObjID126.ply')"
   ]
  },
  {
   "cell_type": "code",
   "execution_count": null,
   "metadata": {},
   "outputs": [],
   "source": [
    "import plyfile\n",
    "import h5py\n",
    "import pathlib"
   ]
  },
  {
   "cell_type": "code",
   "execution_count": null,
   "metadata": {},
   "outputs": [],
   "source": [
    "def vertex_dict_from_plyfile_cached(filename):\n",
    "    \"\"\"Load vertices from plyfile and return as dict.\"\"\"\n",
    "    path = pathlib.Path(filename)\n",
    "    cache_path = path.with_suffix('.cache.ecto')\n",
    "    if cache_path.is_file():\n",
    "        with h5py.File(cache_path, \"r\") as hf:\n",
    "            x = hf[\"x\"][\"arr\"][:]\n",
    "            y = hf[\"y\"][\"arr\"][:]\n",
    "            z = hf[\"z\"][\"arr\"][:]\n",
    "    else:\n",
    "        plydata = plyfile.PlyData.read(filename)\n",
    "        x = plydata['vertex']['x']\n",
    "        y = plydata['vertex']['y']\n",
    "        z = plydata['vertex']['z']\n",
    "        with h5py.File(cache_path, \"w\") as hf:\n",
    "            g_x = hf.create_group('x')\n",
    "            g_x.create_dataset('arr', data=x)\n",
    "            g_y = hf.create_group('y')\n",
    "            g_y.create_dataset('arr', data=y)\n",
    "            g_z = hf.create_group('z')\n",
    "            g_z.create_dataset('arr', data=z)\n",
    "    return dict(x=x, y=y, z=z)"
   ]
  },
  {
   "cell_type": "code",
   "execution_count": null,
   "metadata": {},
   "outputs": [],
   "source": [
    "%%time\n",
    "\n",
    "vertex_dict = vertex_dict_from_plyfile_cached('data/ObjID126.ply')"
   ]
  },
  {
   "cell_type": "code",
   "execution_count": null,
   "metadata": {},
   "outputs": [],
   "source": [
    "%%timeit\n",
    "\n",
    "vertex_dict = vertex_dict_from_plyfile_cached('data/ObjID126.ply')"
   ]
  },
  {
   "cell_type": "code",
   "execution_count": null,
   "metadata": {},
   "outputs": [],
   "source": [
    "vertex_dict = vertex_dict_from_plyfile_cached('data/ObjID126.ply')"
   ]
  },
  {
   "cell_type": "code",
   "execution_count": null,
   "metadata": {},
   "outputs": [],
   "source": [
    "import pandas as pd\n",
    "import ipyvolume as ipv"
   ]
  },
  {
   "cell_type": "code",
   "execution_count": null,
   "metadata": {},
   "outputs": [],
   "source": [
    "ep.visualize.pptk_plot_df(pd.DataFrame(vertex_dict))"
   ]
  },
  {
   "cell_type": "code",
   "execution_count": null,
   "metadata": {},
   "outputs": [],
   "source": [
    "len(vertex_dict['x']), len(vertex_dict['y']), len(vertex_dict['z'])"
   ]
  },
  {
   "cell_type": "code",
   "execution_count": null,
   "metadata": {},
   "outputs": [],
   "source": [
    "%%time\n",
    "\n",
    "vertex_dict = vertex_dict_from_plyfile_cached('data/ObjID126.full.ply')"
   ]
  },
  {
   "cell_type": "code",
   "execution_count": null,
   "metadata": {},
   "outputs": [],
   "source": [
    "%%timeit\n",
    "\n",
    "vertex_dict = vertex_dict_from_plyfile_cached('data/ObjID126.full.ply')"
   ]
  },
  {
   "cell_type": "code",
   "execution_count": null,
   "metadata": {},
   "outputs": [],
   "source": [
    "!ls -lh data/ObjID126.*"
   ]
  },
  {
   "cell_type": "markdown",
   "metadata": {},
   "source": [
    "Cached vertex files in HDF5 are about a third of the full files' sizes, but they load more than 1000 times faster!"
   ]
  },
  {
   "cell_type": "code",
   "execution_count": null,
   "metadata": {},
   "outputs": [],
   "source": []
  }
 ],
 "metadata": {
  "language_info": {
   "name": "python",
   "pygments_lexer": "ipython3"
  }
 },
 "nbformat": 4,
 "nbformat_minor": 2
}
