{
 "cells": [
  {
   "cell_type": "code",
   "execution_count": null,
   "metadata": {},
   "outputs": [],
   "source": [
    "import numpy as np\n",
    "import ipyvolume as ipv\n",
    "import sympy as sy\n",
    "from sympy.geometry import Plane as syPlane, Point3D as syPoint3D\n",
    "import tqdm"
   ]
  },
  {
   "cell_type": "code",
   "execution_count": null,
   "metadata": {},
   "outputs": [],
   "source": [
    "xyz = np.array((np.random.random(1000), np.random.random(1000), np.random.random(1000)))"
   ]
  },
  {
   "cell_type": "code",
   "execution_count": null,
   "metadata": {},
   "outputs": [],
   "source": [
    "ipv.clear()\n",
    "ipv.scatter(*xyz, marker='circle_2d')\n",
    "ipv.show()"
   ]
  },
  {
   "cell_type": "markdown",
   "metadata": {},
   "source": [
    "Let's see how we can define a thick plane (i.e. two co-planar planes separated by a certain distance) by selecting a point in space and then adding a normal vector and a thickness.\n",
    "\n",
    "It would be nice if we could get the initial plane-point by clicking on a point in the ipyvolume plot. Let's look into that later.\n",
    "\n",
    "If the normal vector $\\boldsymbol{n}$ is $(a,b,c)$ then a plane in $(x,y,z)$ is parameterized by\n",
    "\n",
    "$$\n",
    "ax+by+cz+d=0\n",
    "$$\n",
    "\n",
    "You can either find three points $P_i$ in the plane and use the cross product of two differences of points to find a, b, c, because\n",
    "\n",
    "$$\n",
    "\\boldsymbol{n} = (P_3-P_1) \\times (P_2-P_1)\n",
    "$$\n",
    "\n",
    "or if you define $\\boldsymbol{n}$ yourself, you can just directly find $d$ by plugging in any point in the plane in the previous equation.\n",
    "\n",
    "Then you can use the edges of your box to define the extreme points of your plane to be plotted.\n",
    "\n",
    "See e.g. https://stackoverflow.com/a/13473027/1199693"
   ]
  },
  {
   "cell_type": "code",
   "execution_count": null,
   "metadata": {},
   "outputs": [],
   "source": [
    "def normalize_vector(n):\n",
    "    n_size = n[0] * n[0] + n[1] * n[1] + n[2] * n[2]\n",
    "    n = (n[0]/n_size, n[1]/n_size, n[2]/n_size)\n",
    "    return n\n",
    "\n",
    "\n",
    "def plot_plane(p, n):\n",
    "    \"\"\"\n",
    "    Draw a plane.\n",
    "\n",
    "    p: a point in the plane (x, y, z; any iterable)\n",
    "    n: the normal vector to the plane (x, y, z; any iterable)\n",
    "    \"\"\"\n",
    "    n = normalize_vector(n)\n",
    "    \n",
    "    # find d\n",
    "    d = -(n[0] * p[0] + n[1] * p[1] + n[2] * p[2])\n",
    "\n",
    "    # get box limits in two dimensions\n",
    "    x_lim = (0, 1)\n",
    "    z_lim = (0, 1)\n",
    "    x, z = np.meshgrid(x_lim, z_lim)\n",
    "\n",
    "    # find corresponding y coordinates\n",
    "    y = -(n[0] * x + n[2] * z + d)/n[1]\n",
    "\n",
    "    # plot\n",
    "    ipv.plot_surface(x, y, z)\n",
    "\n",
    "\n",
    "def thick_plane_points(p, n, thickness):\n",
    "    \"\"\"\n",
    "    Given a point, a normal vector and a thickness, return two points\n",
    "    along the normal that are `thickness` apart.\n",
    "    \"\"\"\n",
    "    n = normalize_vector(n)\n",
    "    \n",
    "    p1 = (p[0] + 0.5 * thickness * n[0],\n",
    "          p[1] + 0.5 * thickness * n[1],\n",
    "          p[2] + 0.5 * thickness * n[2])\n",
    "    p2 = (p[0] - 0.5 * thickness * n[0],\n",
    "          p[1] - 0.5 * thickness * n[1],\n",
    "          p[2] - 0.5 * thickness * n[2])\n",
    "    return p1, p2\n",
    "\n",
    "\n",
    "def plot_thick_plane(p, n, thickness=0):\n",
    "    \"\"\"\n",
    "    Draw two co-planar planes, separated by a distance `thickness`.\n",
    "\n",
    "    p: a point in the plane (x, y, z; any iterable)\n",
    "    n: the normal vector to the plane (x, y, z; any iterable)\n",
    "    thickness: the distance between the two co-planar planes\n",
    "    \"\"\"\n",
    "    if thickness <= 0:\n",
    "        plot_plane(point, normal)\n",
    "    else:\n",
    "        # find points in the two planes and plot them\n",
    "        p1, p2 = thick_plane_points(p, n, thickness)\n",
    "        \n",
    "        plot_plane(p1, n)\n",
    "        plot_plane(p2, n)"
   ]
  },
  {
   "cell_type": "code",
   "execution_count": null,
   "metadata": {},
   "outputs": [],
   "source": [
    "point = (0.5, 0.5, 0.5)\n",
    "normal = (0, 1, 0)  # make it normalized to one\n",
    "thickness = 0.1\n",
    "\n",
    "plot_thick_plane(point, normal, thickness=thickness)"
   ]
  },
  {
   "cell_type": "markdown",
   "metadata": {},
   "source": [
    "Now, we also need to actually filter the points. Let's do that with Sympy."
   ]
  },
  {
   "cell_type": "code",
   "execution_count": null,
   "metadata": {},
   "outputs": [],
   "source": [
    "def filter_points_plane(points_xyz, plane_point, plane_normal, plane_thickness):\n",
    "    point1, point2 = thick_plane_points(plane_point, plane_normal, plane_thickness)\n",
    "    plane1 = syPlane(syPoint3D(point1), normal_vector=plane_normal)\n",
    "    plane2 = syPlane(syPoint3D(point2), normal_vector=plane_normal)\n",
    "    \n",
    "    p_filtered = []\n",
    "    for p_i in tqdm.tqdm(points_xyz.T):\n",
    "        sy_point_i = syPoint3D(tuple(p_i))\n",
    "        if plane1.distance(sy_point_i) <= thickness and plane2.distance(sy_point_i) <= thickness:\n",
    "            p_filtered.append(p_i)\n",
    "    return p_filtered"
   ]
  },
  {
   "cell_type": "code",
   "execution_count": null,
   "metadata": {},
   "outputs": [],
   "source": [
    "p_filtered = filter_points_plane(xyz, point, normal, thickness)"
   ]
  },
  {
   "cell_type": "code",
   "execution_count": null,
   "metadata": {},
   "outputs": [],
   "source": [
    "len(p_filtered)"
   ]
  },
  {
   "cell_type": "code",
   "execution_count": null,
   "metadata": {},
   "outputs": [],
   "source": [
    "ipv.scatter(*np.array(p_filtered).T, marker='circle_2d', color='blue')"
   ]
  },
  {
   "cell_type": "code",
   "execution_count": null,
   "metadata": {},
   "outputs": [],
   "source": []
  }
 ],
 "metadata": {
  "language_info": {
   "name": "python",
   "pygments_lexer": "ipython3"
  }
 },
 "nbformat": 4,
 "nbformat_minor": 2
}
