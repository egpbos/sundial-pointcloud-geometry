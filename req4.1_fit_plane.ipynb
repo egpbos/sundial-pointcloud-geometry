{
 "cells": [
  {
   "cell_type": "code",
   "execution_count": null,
   "metadata": {},
   "outputs": [],
   "source": [
    "import numpy as np\n",
    "import ipyvolume as ipv\n",
    "import symfit as sf\n",
    "\n",
    "import ectopylasm as ep"
   ]
  },
  {
   "cell_type": "code",
   "execution_count": null,
   "metadata": {},
   "outputs": [],
   "source": [
    "xyz = np.array((np.random.random(1000), np.random.normal(0, 0.01, 1000), np.random.random(1000)))"
   ]
  },
  {
   "cell_type": "code",
   "execution_count": null,
   "metadata": {},
   "outputs": [],
   "source": [
    "ipv.clear()\n",
    "ipv.scatter(*xyz, marker='circle_2d')\n",
    "ipv.show()"
   ]
  },
  {
   "cell_type": "code",
   "execution_count": null,
   "metadata": {},
   "outputs": [],
   "source": [
    "a, b, c, x0, y0, z0 = sf.parameters('a, b, c, x0, y0, z0')\n",
    "x, y, z = sf.variables('x, y, z')\n",
    "plane_model = {x: (x0 * a + y0 * b + z0 * c - y * b - z * c) / a}"
   ]
  },
  {
   "cell_type": "code",
   "execution_count": null,
   "metadata": {},
   "outputs": [],
   "source": [
    "plane_fit = sf.Fit(plane_model, x=xyz[0], y=xyz[1], z=xyz[2])"
   ]
  },
  {
   "cell_type": "code",
   "execution_count": null,
   "metadata": {},
   "outputs": [],
   "source": [
    "plane_fit_result = plane_fit.execute()"
   ]
  },
  {
   "cell_type": "code",
   "execution_count": null,
   "metadata": {},
   "outputs": [],
   "source": [
    "print(plane_fit_result)"
   ]
  },
  {
   "cell_type": "code",
   "execution_count": null,
   "metadata": {},
   "outputs": [],
   "source": [
    "p_fit = plane_fit_result.params"
   ]
  },
  {
   "cell_type": "code",
   "execution_count": null,
   "metadata": {},
   "outputs": [],
   "source": [
    "ep.plot_plane((p_fit['x0'], p_fit['y0'], p_fit['z0']), (p_fit['a'], p_fit['b'], p_fit['c']), (0, 1), (0, 1))"
   ]
  },
  {
   "cell_type": "markdown",
   "metadata": {},
   "source": [
    "That's not really a great fit. y0 should be about 0, certainly not 0.75. Also the stds seem weird and chi_squared is high.\n",
    "\n",
    "Let's try again with initial values for x0, y0 and z0. We can set it to any of our random points."
   ]
  },
  {
   "cell_type": "code",
   "execution_count": null,
   "metadata": {},
   "outputs": [],
   "source": [
    "initial_guess = xyz.T[0]\n",
    "\n",
    "a, b, c, x0, y0, z0 = sf.parameters('a, b, c, x0, y0, z0')\n",
    "x0.value = initial_guess[0]\n",
    "y0.value = initial_guess[1]\n",
    "z0.value = initial_guess[2]\n",
    "x, y, z = sf.variables('x, y, z')\n",
    "plane_model = {x: (x0 * a + y0 * b + z0 * c - y * b - z * c) / a}\n",
    "\n",
    "plane_fit = sf.Fit(plane_model, x=xyz[0], y=xyz[1], z=xyz[2])\n",
    "\n",
    "plane_fit_result = plane_fit.execute()\n",
    "\n",
    "print(plane_fit_result)"
   ]
  },
  {
   "cell_type": "markdown",
   "metadata": {},
   "source": [
    "Hmm, weird."
   ]
  },
  {
   "cell_type": "code",
   "execution_count": null,
   "metadata": {},
   "outputs": [],
   "source": [
    "p_fit = plane_fit_result.params"
   ]
  },
  {
   "cell_type": "code",
   "execution_count": null,
   "metadata": {},
   "outputs": [],
   "source": [
    "ep.plot_plane((p_fit['x0'], p_fit['y0'], p_fit['z0']), (p_fit['a'], p_fit['b'], p_fit['c']), (0, 1), (0, 1))"
   ]
  },
  {
   "cell_type": "markdown",
   "metadata": {},
   "source": [
    "Hmm, ok, it's actually not totally off, at least it goes through the actual plane of points. The angle is just pretty much off.\n",
    "\n",
    "Let's try including some limits, because x and z are also waaaaay way out there."
   ]
  },
  {
   "cell_type": "code",
   "execution_count": null,
   "metadata": {},
   "outputs": [],
   "source": [
    "initial_guess = xyz.T[0]\n",
    "\n",
    "a, b, c, x0, y0, z0 = sf.parameters('a, b, c, x0, y0, z0')\n",
    "x0.value = initial_guess[0]\n",
    "x0.min, x0.max = (0, 1)\n",
    "y0.value = initial_guess[1]\n",
    "z0.value = initial_guess[2]\n",
    "z0.min, z0.max = (0, 1)\n",
    "x, y, z = sf.variables('x, y, z')\n",
    "plane_model = {x: (x0 * a + y0 * b + z0 * c - y * b - z * c) / a}\n",
    "\n",
    "plane_fit = sf.Fit(plane_model, x=xyz[0], y=xyz[1], z=xyz[2])\n",
    "\n",
    "plane_fit_result = plane_fit.execute()\n",
    "\n",
    "print(plane_fit_result)"
   ]
  },
  {
   "cell_type": "markdown",
   "metadata": {},
   "source": [
    "Again, pretty crappy."
   ]
  },
  {
   "cell_type": "code",
   "execution_count": null,
   "metadata": {},
   "outputs": [],
   "source": [
    "p_fit = plane_fit_result.params\n",
    "ep.plot_plane((p_fit['x0'], p_fit['y0'], p_fit['z0']), (p_fit['a'], p_fit['b'], p_fit['c']), (0, 1), (0, 1))"
   ]
  },
  {
   "cell_type": "markdown",
   "metadata": {},
   "source": [
    "Let's try with initial values for a b c as well that together I think should be a pretty good fit already."
   ]
  },
  {
   "cell_type": "code",
   "execution_count": null,
   "metadata": {},
   "outputs": [],
   "source": [
    "initial_guess = xyz.T[0]\n",
    "\n",
    "a, b, c, x0, y0, z0 = sf.parameters('a, b, c, x0, y0, z0')\n",
    "a.value = 0.0001\n",
    "b.value = 1\n",
    "c.value = 0.0001\n",
    "x0.value = initial_guess[0]\n",
    "x0.min, x0.max = (0, 1)\n",
    "y0.value = initial_guess[1]\n",
    "z0.value = initial_guess[2]\n",
    "z0.min, z0.max = (0, 1)\n",
    "x, y, z = sf.variables('x, y, z')\n",
    "plane_model = {x: (x0 * a + y0 * b + z0 * c - y * b - z * c) / a}\n",
    "\n",
    "plane_fit = sf.Fit(plane_model, x=xyz[0], y=xyz[1], z=xyz[2])\n",
    "\n",
    "plane_fit_result = plane_fit.execute()\n",
    "\n",
    "print(plane_fit_result)"
   ]
  },
  {
   "cell_type": "code",
   "execution_count": null,
   "metadata": {},
   "outputs": [],
   "source": [
    "p_fit = plane_fit_result.params\n",
    "ep.plot_plane((p_fit['x0'], p_fit['y0'], p_fit['z0']), (p_fit['a'], p_fit['b'], p_fit['c']), (0, 1), (0, 1))"
   ]
  },
  {
   "cell_type": "markdown",
   "metadata": {},
   "source": [
    "Crap!\n",
    "\n",
    "Perhaps I should try to parameterize the plane differently... Is the division by a a problem, because it will give division by zero?"
   ]
  },
  {
   "cell_type": "code",
   "execution_count": null,
   "metadata": {},
   "outputs": [],
   "source": [
    "initial_guess = xyz.T[0]\n",
    "\n",
    "a, b, c, x0, y0, z0 = sf.parameters('a, b, c, x0, y0, z0')\n",
    "a.value = 0\n",
    "b.value = 1\n",
    "c.value = 0\n",
    "x0.value = initial_guess[0]\n",
    "x0.min, x0.max = (0, 1)\n",
    "y0.value = initial_guess[1]\n",
    "z0.value = initial_guess[2]\n",
    "z0.min, z0.max = (0, 1)\n",
    "x, y, z = sf.variables('x, y, z')\n",
    "plane_model = {y: (x0 * a + y0 * b + z0 * c - x * a - z * c) / b}\n",
    "\n",
    "plane_fit = sf.Fit(plane_model, x=xyz[0], y=xyz[1], z=xyz[2])\n",
    "\n",
    "plane_fit_result = plane_fit.execute()\n",
    "\n",
    "print(plane_fit_result)"
   ]
  },
  {
   "cell_type": "markdown",
   "metadata": {},
   "source": [
    "Ahhh, that was it! Coolio."
   ]
  },
  {
   "cell_type": "code",
   "execution_count": null,
   "metadata": {},
   "outputs": [],
   "source": [
    "ipv.clear()\n",
    "ipv.scatter(*xyz, marker='circle_2d')\n",
    "p_fit = plane_fit_result.params\n",
    "ep.plot_plane((p_fit['x0'], p_fit['y0'], p_fit['z0']), (p_fit['a'], p_fit['b'], p_fit['c']), (0, 1), (0, 1))\n",
    "ipv.show()"
   ]
  },
  {
   "cell_type": "code",
   "execution_count": null,
   "metadata": {},
   "outputs": [],
   "source": []
  }
 ],
 "metadata": {
  "language_info": {
   "name": "python",
   "pygments_lexer": "ipython3"
  }
 },
 "nbformat": 4,
 "nbformat_minor": 2
}
