{
 "cells": [
  {
   "cell_type": "code",
   "execution_count": null,
   "metadata": {},
   "outputs": [],
   "source": [
    "import numpy as np\n",
    "import ectopylasm as ep\n",
    "\n",
    "import symfit as sf\n",
    "\n",
    "import ipyvolume as ipv"
   ]
  },
  {
   "cell_type": "code",
   "execution_count": null,
   "metadata": {},
   "outputs": [],
   "source": [
    "cone = ep.geometry.Cone(0.5, 0.5)\n",
    "n_steps = 20\n",
    "xyz = np.array(ep.geometry.cone_surface(cone, n_steps=n_steps))\n",
    "xyz = xyz.reshape(3, n_steps*n_steps)\n",
    "xyz += np.random.normal(0, 0.03, xyz.shape)"
   ]
  },
  {
   "cell_type": "code",
   "execution_count": null,
   "metadata": {},
   "outputs": [],
   "source": [
    "h, radius, rot_x, rot_y, bx, by, bz = sf.parameters('h, radius, rot_x, rot_y, bx, by, bz')\n",
    "x, y, z, f = sf.variables('x, y, z, f')\n",
    "\n",
    "x_min_b = sf.Matrix([x - bx, y - by, z - bz])  # column matrix\n",
    "\n",
    "M_x = sf.Matrix([[1, 0, 0],\n",
    "                 [0, sf.cos(-rot_x), sf.sin(-rot_x)],\n",
    "                 [0, -sf.sin(-rot_x), sf.cos(-rot_x)]])\n",
    "\n",
    "M_y = sf.Matrix([[sf.cos(-rot_y), 0, sf.sin(-rot_y)],\n",
    "                 [0, 1, 0],\n",
    "                 [-sf.sin(-rot_y), 0, sf.cos(-rot_y)]])\n",
    "\n",
    "u = M_x @ (M_y @ x_min_b)\n",
    "\n",
    "cone_model = {\n",
    "    f: h**2 * (u[0]**2 + u[1]**2) / radius**2 - (u[2] - h)**2\n",
    "}"
   ]
  },
  {
   "cell_type": "code",
   "execution_count": null,
   "metadata": {},
   "outputs": [],
   "source": [
    "cone_fit = sf.Fit(cone_model, x=xyz[0], y=xyz[1], z=xyz[2], f=np.zeros_like(xyz[0]))\n",
    "\n",
    "cone_fit_result = cone_fit.execute()\n",
    "\n",
    "print(cone_fit_result)"
   ]
  },
  {
   "cell_type": "code",
   "execution_count": null,
   "metadata": {},
   "outputs": [],
   "source": [
    "cone_constraints = [\n",
    "    sf.LessThan(sf.Abs(u[2]), h)\n",
    "]\n",
    "\n",
    "cone_fit = sf.Fit(cone_model, x=xyz[0], y=xyz[1], z=xyz[2], f=np.zeros_like(xyz[0]),\n",
    "                  constraints=cone_constraints)\n",
    "\n",
    "cone_fit_result = cone_fit.execute()"
   ]
  },
  {
   "cell_type": "code",
   "execution_count": null,
   "metadata": {},
   "outputs": [],
   "source": [
    "u"
   ]
  },
  {
   "cell_type": "code",
   "execution_count": null,
   "metadata": {},
   "outputs": [],
   "source": [
    "u[2]"
   ]
  },
  {
   "cell_type": "code",
   "execution_count": null,
   "metadata": {},
   "outputs": [],
   "source": [
    "print(cone_fit_result)"
   ]
  },
  {
   "cell_type": "code",
   "execution_count": null,
   "metadata": {},
   "outputs": [],
   "source": [
    "def plot_cone_fit(result):\n",
    "    cone = ep.geometry.Cone(result.params['h'], result.params['radius'],\n",
    "                            rot_x=result.params['rot_x'], rot_y=result.params['rot_y'],\n",
    "                            base_pos=ep.geometry.Point(\n",
    "                                result.params['bx'],\n",
    "                                result.params['by'],\n",
    "                                result.params['bz']\n",
    "                            ))\n",
    "    fig = ep.visualize.plot_cone(cone)\n",
    "    return fig"
   ]
  },
  {
   "cell_type": "code",
   "execution_count": null,
   "metadata": {},
   "outputs": [],
   "source": [
    "ipv.clear()\n",
    "ipv.scatter(*xyz)\n",
    "plot_cone_fit(cone_fit_result)\n",
    "ipv.show()"
   ]
  },
  {
   "cell_type": "code",
   "execution_count": null,
   "metadata": {},
   "outputs": [],
   "source": []
  }
 ],
 "metadata": {
  "language_info": {
   "name": "python",
   "pygments_lexer": "ipython3"
  }
 },
 "nbformat": 4,
 "nbformat_minor": 2
}
