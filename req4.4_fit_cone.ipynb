{
 "cells": [
  {
   "cell_type": "markdown",
   "metadata": {},
   "source": [
    "We're going to try three scenarios. Fitting to:\n",
    "\n",
    "1. a full cone\n",
    "2. a partial cone cut, from the outside of a plane parallel to the cone axis\n",
    "3. another partial cone cut, but now an ellipsoidal one, or rather a sort of \"thick\" ellipse, with thickness along the cone directrices"
   ]
  },
  {
   "cell_type": "code",
   "execution_count": null,
   "metadata": {},
   "outputs": [],
   "source": [
    "import numpy as np\n",
    "import ipyvolume as ipv\n",
    "import ectopylasm as ep\n",
    "\n",
    "import symfit as sf"
   ]
  },
  {
   "cell_type": "code",
   "execution_count": null,
   "metadata": {},
   "outputs": [],
   "source": [
    "cone = ep.geometry.Cone(0.5, 0.5)"
   ]
  },
  {
   "cell_type": "markdown",
   "metadata": {},
   "source": [
    "# 1. Full cone fit"
   ]
  },
  {
   "cell_type": "code",
   "execution_count": null,
   "metadata": {},
   "outputs": [],
   "source": [
    "n_steps = 20\n",
    "xyz = np.array(ep.geometry.cone_surface(cone, n_steps=n_steps))\n",
    "xyz = xyz.reshape(3, n_steps*n_steps)\n",
    "xyz += np.random.normal(0, 0.03, xyz.shape)"
   ]
  },
  {
   "cell_type": "markdown",
   "metadata": {},
   "source": [
    "Implicit model for the cone from [Wolfram Mathworld](http://mathworld.wolfram.com/Cone.html):\n",
    "\n",
    "$$\n",
    "\\frac{x^2 + y^2}{c^2} = (z - z_0)^2 \\,,\n",
    "$$\n",
    "\n",
    "where $c=r/h$ and $z_0=h$. This is for a cone along the z-axis, with the base (center of the circle) at the origin.\n",
    "\n",
    "To fit to a cone with generic rotation and location, we need to translate from the actual space coordinates of points x, y, z back to this nice space where the implicit cone equation holds. Let's call the latter space u, v, w, so that now the cone equation is\n",
    "\n",
    "$$\n",
    "h^2 \\frac{u^2 + v^2}{r^2} = (w - h)^2 \\,.\n",
    "$$\n",
    "\n",
    "We can then write the transformation between $\\vec{x} = (x, y, z)$ and $\\vec{u} = (u, v, w)$ as\n",
    "\n",
    "$$\n",
    "\\vec{u} = M_x(-\\theta_x) M_y(-\\theta_y) (\\vec{x} - \\vec{b}) \\,,\n",
    "$$\n",
    "\n",
    "where $\\vec{b}$ is the base position, the $\\theta$s are the rotation angles of the cone around the two axes and the $M$s are the rotation matrices around those axes."
   ]
  },
  {
   "cell_type": "code",
   "execution_count": null,
   "metadata": {},
   "outputs": [],
   "source": [
    "h, radius, rot_x, rot_y, bx, by, bz = sf.parameters('h, radius, rot_x, rot_y, bx, by, bz')\n",
    "x, y, z, f = sf.variables('x, y, z, f')\n",
    "\n",
    "x_min_b = sf.Matrix([x - bx, y - by, z - bz])  # column matrix\n",
    "\n",
    "M_x = sf.Matrix([[1, 0, 0],\n",
    "                 [0, sf.cos(-rot_x), sf.sin(-rot_x)],\n",
    "                 [0, -sf.sin(-rot_x), sf.cos(-rot_x)]])\n",
    "\n",
    "M_y = sf.Matrix([[sf.cos(-rot_y), 0, sf.sin(-rot_y)],\n",
    "                 [0, 1, 0],\n",
    "                 [-sf.sin(-rot_y), 0, sf.cos(-rot_y)]])\n",
    "\n",
    "u = M_x @ (M_y @ x_min_b)\n",
    "\n",
    "cone_model = {\n",
    "    f: h**2 * (u[0]**2 + u[1]**2) / radius**2 - (u[2] - h)**2\n",
    "}\n",
    "\n",
    "cone_fit = sf.Fit(cone_model, x=xyz[0], y=xyz[1], z=xyz[2], f=np.zeros_like(xyz[0]))\n",
    "\n",
    "cone_fit_result = cone_fit.execute()\n",
    "\n",
    "print(cone_fit_result)"
   ]
  },
  {
   "cell_type": "code",
   "execution_count": null,
   "metadata": {},
   "outputs": [],
   "source": [
    "cone_fit_result.params['radius']"
   ]
  },
  {
   "cell_type": "code",
   "execution_count": null,
   "metadata": {},
   "outputs": [],
   "source": [
    "def plot_cone_fit(result):\n",
    "    cone = ep.geometry.Cone(result.params['h'], result.params['radius'],\n",
    "                            rot_x=result.params['rot_x'], rot_y=result.params['rot_y'],\n",
    "                            base_pos=ep.geometry.Point(\n",
    "                                result.params['bx'],\n",
    "                                result.params['by'],\n",
    "                                result.params['bz']\n",
    "                            ))\n",
    "    fig = ep.visualize.plot_cone(cone)\n",
    "    return fig"
   ]
  },
  {
   "cell_type": "code",
   "execution_count": null,
   "metadata": {},
   "outputs": [],
   "source": [
    "ipv.clear()\n",
    "ipv.scatter(*xyz)\n",
    "fit = cone_fit_result\n",
    "plot_cone_fit(fit)\n",
    "ipv.show()"
   ]
  },
  {
   "cell_type": "markdown",
   "metadata": {},
   "source": [
    "That's not too great.\n",
    "\n",
    "Maybe some initial guesses would help. For instance, radius and height can be guessed using the maximum distance... but that itself is not easy to compute automatically (convex hull or something like that). Easier way: just compute the min and max in all directions and use that box's sizes as estimates."
   ]
  },
  {
   "cell_type": "code",
   "execution_count": null,
   "metadata": {},
   "outputs": [],
   "source": [
    "xyz_bounding_size = sorted(xyz.ptp(axis=1))\n",
    "\n",
    "h.value = xyz_bounding_size[-1]\n",
    "radius.value = xyz_bounding_size[-2]/2\n",
    "\n",
    "cone_fit = sf.Fit(cone_model, x=xyz[0], y=xyz[1], z=xyz[2], f=np.zeros_like(xyz[0]))\n",
    "\n",
    "# reset values for later attempts\n",
    "h.value, radius.value = 1, 1\n",
    "\n",
    "cone_fit_result = cone_fit.execute()\n",
    "\n",
    "print(cone_fit_result)\n",
    "\n",
    "ipv.clear()\n",
    "ipv.scatter(*xyz)\n",
    "plot_cone_fit(cone_fit_result)\n",
    "ipv.show()"
   ]
  },
  {
   "cell_type": "markdown",
   "metadata": {},
   "source": [
    "Still doesn't work, basically same result. Maybe we should also sensibly initialize the other parameters.\n",
    "\n",
    "But let's first try with a less noisy dataset."
   ]
  },
  {
   "cell_type": "code",
   "execution_count": null,
   "metadata": {},
   "outputs": [],
   "source": [
    "n_steps = 30\n",
    "xyz = np.array(ep.geometry.cone_surface(cone, n_steps=n_steps))\n",
    "xyz = xyz.reshape(3, n_steps*n_steps)\n",
    "# xyz += np.random.normal(0, 0.01, xyz.shape)"
   ]
  },
  {
   "cell_type": "code",
   "execution_count": null,
   "metadata": {},
   "outputs": [],
   "source": [
    "cone_fit = sf.Fit(cone_model, x=xyz[0], y=xyz[1], z=xyz[2], f=np.zeros_like(xyz[0]))\n",
    "\n",
    "cone_fit_result = cone_fit.execute()\n",
    "\n",
    "print(cone_fit_result)\n",
    "\n",
    "ipv.clear()\n",
    "ipv.scatter(*xyz)\n",
    "plot_cone_fit(cone_fit_result)\n",
    "ipv.show()"
   ]
  },
  {
   "cell_type": "markdown",
   "metadata": {},
   "source": [
    "It's kinda suspicious that rot_x is almost exactly $\\pi$ all the time...\n",
    "\n",
    "What if we set the initial guesses to the ideal values?"
   ]
  },
  {
   "cell_type": "code",
   "execution_count": null,
   "metadata": {},
   "outputs": [],
   "source": [
    "h.value = 0.5\n",
    "radius.value = 0.5\n",
    "rot_x.value = 0\n",
    "rot_y.value = 0\n",
    "bx.value = 0\n",
    "by.value = 0\n",
    "bz.value = 0\n",
    "\n",
    "cone_fit = sf.Fit(cone_model, x=xyz[0], y=xyz[1], z=xyz[2], f=np.zeros_like(xyz[0]))\n",
    "\n",
    "cone_fit_result = cone_fit.execute()\n",
    "\n",
    "# reset values for later attempts\n",
    "for ding in (h, radius, rot_x, rot_y, bx, by, bz):\n",
    "    ding.value = 1\n",
    "\n",
    "print(cone_fit_result)\n",
    "\n",
    "ipv.clear()\n",
    "ipv.scatter(*xyz)\n",
    "plot_cone_fit(cone_fit_result)\n",
    "ipv.show()"
   ]
  },
  {
   "cell_type": "markdown",
   "metadata": {},
   "source": [
    "Ok, at least it agrees that this is a good fit :)\n",
    "\n",
    "Then, let's add some noise again."
   ]
  },
  {
   "cell_type": "code",
   "execution_count": null,
   "metadata": {},
   "outputs": [],
   "source": [
    "n_steps = 20\n",
    "xyz = np.array(ep.geometry.cone_surface(cone, n_steps=n_steps))\n",
    "xyz = xyz.reshape(3, n_steps*n_steps)\n",
    "xyz += np.random.normal(0, 0.03, xyz.shape)"
   ]
  },
  {
   "cell_type": "code",
   "execution_count": null,
   "metadata": {},
   "outputs": [],
   "source": [
    "h.value = 0.5\n",
    "radius.value = 0.5\n",
    "rot_x.value = 0\n",
    "rot_y.value = 0\n",
    "bx.value = 0\n",
    "by.value = 0\n",
    "bz.value = 0\n",
    "\n",
    "cone_fit = sf.Fit(cone_model, x=xyz[0], y=xyz[1], z=xyz[2], f=np.zeros_like(xyz[0]))\n",
    "\n",
    "cone_fit_result = cone_fit.execute()\n",
    "\n",
    "# reset values for later attempts\n",
    "for ding in (h, radius, rot_x, rot_y, bx, by, bz):\n",
    "    ding.value = 1\n",
    "\n",
    "print(cone_fit_result)\n",
    "\n",
    "ipv.clear()\n",
    "ipv.scatter(*xyz)\n",
    "plot_cone_fit(cone_fit_result)\n",
    "ipv.show()"
   ]
  },
  {
   "cell_type": "markdown",
   "metadata": {},
   "source": [
    "Ok, this is visually quite crappy. It seems to be quite hard to fit points to a cone then..."
   ]
  },
  {
   "cell_type": "code",
   "execution_count": null,
   "metadata": {},
   "outputs": [],
   "source": []
  }
 ],
 "metadata": {
  "language_info": {
   "name": "python",
   "pygments_lexer": "ipython3"
  }
 },
 "nbformat": 4,
 "nbformat_minor": 2
}
