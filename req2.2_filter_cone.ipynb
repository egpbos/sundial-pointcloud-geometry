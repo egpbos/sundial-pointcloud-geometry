{
 "cells": [
  {
   "cell_type": "code",
   "execution_count": null,
   "metadata": {},
   "outputs": [],
   "source": [
    "import numpy as np\n",
    "import ipyvolume as ipv\n",
    "import sympy as sy\n",
    "from sympy.geometry import Plane as syPlane, Point3D as syPoint3D\n",
    "import tqdm"
   ]
  },
  {
   "cell_type": "code",
   "execution_count": null,
   "metadata": {},
   "outputs": [],
   "source": [
    "xyz = np.array((2 * np.random.random(1000) - 1, 2 * np.random.random(1000) - 1, 2 * np.random.random(1000) - 1))"
   ]
  },
  {
   "cell_type": "code",
   "execution_count": null,
   "metadata": {},
   "outputs": [],
   "source": [
    "ipv.clear()\n",
    "ipv.scatter(*xyz, marker='circle_2d')\n",
    "ipv.show()"
   ]
  },
  {
   "cell_type": "markdown",
   "metadata": {},
   "source": [
    "Now, similarly to the [req2.1 notebook](req2.1_filter_plane.ipynb), we will want to filter and plot here a thick cone, i.e. basically two  the same cones where their surfaces are separatated by some thickness.\n",
    "\n",
    "The equation for a generically oriented and located regular (non-slanted) cone is given on [Wikipedia](https://en.wikipedia.org/wiki/Cone) as $F(u)=0$ where:\n",
    "\n",
    "$$\n",
    "F(u) = u \\cdot d - |d| |u| \\cos \\theta\n",
    "$$\n",
    "\n",
    "where $u=(x,y,z)$, $d=(d,e,f)$ is the vector to which the cone axis is parallel and the aperture is $2\\theta$. The vertex of this cone is at the origin, so to displace it to $(a,b,c)$ you need to subtract an additional vector $o = (a,b,c)$ from u:\n",
    "\n",
    "$$\n",
    "F(u) = (u - o) \\cdot d - |d| |u - o| \\cos \\theta\n",
    "$$\n",
    "\n",
    "Alternatively, one can apparently use the equation\n",
    "\n",
    "$$\n",
    "F(u) = ((u - o) \\cdot d)^2 - (d \\cdot d) ((u - o) \\cdot (u - o)) (\\cos \\theta)^2\n",
    "$$\n",
    "\n",
    "This is actually easier, because you can skip the square roots necessary for the norms."
   ]
  },
  {
   "cell_type": "code",
   "execution_count": null,
   "metadata": {},
   "outputs": [],
   "source": [
    "x, y, z, d, e, f, a, b, c, theta = sy.symbols('x, y, z, d, e, f, a, b, c, theta')"
   ]
  },
  {
   "cell_type": "code",
   "execution_count": null,
   "metadata": {},
   "outputs": [],
   "source": [
    "cone_eqn = ((x-a)*d + (y-b)*e + (z-c)*f)**2 \\\n",
    "           - sy.cos(theta)**2 * (d * d + e * e + f * f) \\\n",
    "           * ((x-a) * (x-a) + (y-b) * (y-b) + (z-c) * (z-c))"
   ]
  },
  {
   "cell_type": "markdown",
   "metadata": {},
   "source": [
    "To solve, we need to fill out the parameters we want. Let's try some simple things first."
   ]
  },
  {
   "cell_type": "code",
   "execution_count": null,
   "metadata": {},
   "outputs": [],
   "source": [
    "res = sy.solve(cone_eqn.subs(theta, sy.pi/4).subs(a, 0).subs(b, 0).subs(c, 0).subs(d, 0).subs(e, 1).subs(f, 0), y)"
   ]
  },
  {
   "cell_type": "code",
   "execution_count": null,
   "metadata": {},
   "outputs": [],
   "source": [
    "value = res[0].subs(x, 0.1).subs(z, 0.1)"
   ]
  },
  {
   "cell_type": "code",
   "execution_count": null,
   "metadata": {},
   "outputs": [],
   "source": [
    "float(value)"
   ]
  },
  {
   "cell_type": "code",
   "execution_count": null,
   "metadata": {},
   "outputs": [],
   "source": [
    "res0 = res[0]"
   ]
  },
  {
   "cell_type": "code",
   "execution_count": null,
   "metadata": {},
   "outputs": [],
   "source": [
    "cone_eqn.subs"
   ]
  },
  {
   "cell_type": "markdown",
   "metadata": {},
   "source": [
    "Ok, that seems reasonable actually!"
   ]
  },
  {
   "cell_type": "code",
   "execution_count": null,
   "metadata": {},
   "outputs": [],
   "source": [
    "def plot_cone(res, x_sy, z_sy):\n",
    "    \"\"\"\n",
    "    Draw a cone.\n",
    "    \"\"\"\n",
    "    # get box limits in two dimensions\n",
    "    x_lim = ipv.pylab.gcf().xlim\n",
    "    z_lim = ipv.pylab.gcf().zlim\n",
    "    x_steps = np.linspace(*x_lim, 10)\n",
    "    z_steps = np.linspace(*z_lim, 10)\n",
    "    x, z = np.meshgrid(x_steps, z_steps)\n",
    "\n",
    "    # find corresponding y coordinates\n",
    "    y1, y2 = [], []\n",
    "    for xi, zi in zip(x.flatten(), z.flatten()):\n",
    "        y1.append(float(res[0].evalf(subs={x_sy: xi, z_sy: zi})))\n",
    "        y2.append(float(res[1].evalf(subs={x_sy: xi, z_sy: zi})))\n",
    "\n",
    "    # plot\n",
    "    ipv.plot_surface(x, np.array(y1), z)\n",
    "    ipv.plot_surface(x, np.array(y2), z)"
   ]
  },
  {
   "cell_type": "code",
   "execution_count": null,
   "metadata": {},
   "outputs": [],
   "source": [
    "ipv.clear()\n",
    "ipv.scatter(*xyz, marker='circle_2d')\n",
    "plot_cone(res, x, z)\n",
    "ipv.show()"
   ]
  },
  {
   "cell_type": "markdown",
   "metadata": {},
   "source": [
    "Nice! Could be better though.\n",
    "\n",
    "- The origin point must be included.\n",
    "- It looks a bit odd that the edges are cut off. It makes sense if you want to fill the whole box, but probably most people will prefer a circular ending. This we could add as an option.\n",
    "- Just pick one of the two solutions, probably the one that is actually in the same direction as the $d$ vector.\n",
    "\n",
    "Let's also try to make it a bit more general and try out some different examples to test other corner cases."
   ]
  },
  {
   "cell_type": "code",
   "execution_count": null,
   "metadata": {},
   "outputs": [],
   "source": [
    "def plot_cone_2(axis, origin, half_aperture):\n",
    "    \"\"\"\n",
    "    Draw a cone.\n",
    "    \n",
    "    axis: three-component vector along which the cone axis lies\n",
    "    origin: location of the apex of the cone\n",
    "    half_aperture: the aperture of the cone is 2*half_aperture\n",
    "    \"\"\"\n",
    "    x, y, z, d, e, f, a, b, c, theta = sy.symbols('x, y, z, d, e, f, a, b, c, theta')\n",
    "    cone_eqn = ((x-a)*d + (y-b)*e + (z-c)*f)**2 \\\n",
    "               - sy.cos(theta)**2 * (d * d + e * e + f * f) \\\n",
    "               * ((x-a) * (x-a) + (y-b) * (y-b) + (z-c) * (z-c))\n",
    "    \n",
    "    res = sy.solve(cone_eqn.subs({d: axis[0], e: axis[1], f: axis[2],\n",
    "                                  a: origin[0], b: origin[1], c: origin[2],\n",
    "                                  theta: half_aperture}), y)\n",
    "    \n",
    "#     print(res)\n",
    "    \n",
    "    # get box limits in two dimensions\n",
    "    x_lim = ipv.pylab.gcf().xlim\n",
    "    z_lim = ipv.pylab.gcf().zlim\n",
    "    x_steps = np.linspace(*x_lim, 20)\n",
    "    z_steps = np.linspace(*z_lim, 20)\n",
    "    x_array, z_array = np.meshgrid(x_steps, z_steps)\n",
    "    \n",
    "    y_lim = ipv.pylab.gcf().ylim\n",
    "    \n",
    "    # find corresponding y coordinates\n",
    "    y1, y2 = [], []\n",
    "    for xi, zi in zip(x_array.flatten(), z_array.flatten()):\n",
    "        y1.append(float(res[0].evalf(subs={x: xi, z: zi})))\n",
    "        y2.append(float(res[1].evalf(subs={x: xi, z: zi})))\n",
    "\n",
    "    # plot\n",
    "    ipv.plot_surface(x_array, np.array(y1), z_array)\n",
    "    ipv.plot_surface(x_array, np.array(y2), z_array)\n",
    "    \n",
    "    ipv.ylim(*y_lim)"
   ]
  },
  {
   "cell_type": "code",
   "execution_count": null,
   "metadata": {},
   "outputs": [],
   "source": [
    "ipv.clear()\n",
    "ipv.scatter(*xyz, marker='circle_2d')\n",
    "plot_cone_2((0, 1, 0), (0, 0, 0), sy.pi/4)\n",
    "ipv.show()"
   ]
  },
  {
   "cell_type": "code",
   "execution_count": null,
   "metadata": {},
   "outputs": [],
   "source": [
    "ipv.clear()\n",
    "ipv.scatter(*xyz, marker='circle_2d')\n",
    "plot_cone_2((0.25, 0.5, 0), (0, 0.5, 0), sy.pi/8)\n",
    "ipv.show()"
   ]
  },
  {
   "cell_type": "markdown",
   "metadata": {},
   "source": [
    "Arrgh, what's going on here?\n",
    "\n",
    "Oh, wait, this must be what happens when the x and z parameters are, in fact, outside of where the cone is going to be.\n",
    "\n",
    "Is there a more reliable way to find points x, y, z that are actually on the cone surface instead of just randomly (or rather grid-wise) probing x and z and hoping there's a y point there?"
   ]
  },
  {
   "cell_type": "markdown",
   "metadata": {},
   "source": [
    "The trick is to find a parametric form, I think. Wikipedia has this form for a cone along the z-axis, so we could use that, but then we'd still have to displace it and rotate it.\n",
    "\n",
    "Maybe we can find our own parametric form though.\n",
    "\n",
    "One dimension that we would probably want is the same as the $u$ one of the Wikipedia parameterization, i.e. a coordinate that runs along the length of the axis up to its height $h$, i.e. $u \\in [0,h]$. I think this means it should be that\n",
    "\n",
    "$$\n",
    "u^2 = x^2 + y^2 + z^2\n",
    "$$\n",
    "\n",
    "so that $u$ is the square-root of the sum of the three components. This indeed makes sense, because it has two solutions, a positive and a negative one, which technically the cone equations indeed must have. However, we only use the positive range.\n",
    "\n",
    "The remaining two parameters $s$ and $t$ must describe the remaining two "
   ]
  },
  {
   "cell_type": "code",
   "execution_count": null,
   "metadata": {},
   "outputs": [],
   "source": [
    "..."
   ]
  },
  {
   "cell_type": "markdown",
   "metadata": {},
   "source": [
    "Ok... this is going to be too much work, and won't generalize nicely to other surfaces anyway. Let's try the easier approach of just rotating the simple parametric form. This will also automatically fix all three \"niceness\" issues mentioned above.\n",
    "\n",
    "Wikipedia's parametric description for a cone along the z-axis:\n",
    "\n",
    "$$\n",
    "F(s,t,u) = \\left(u \\tan s \\cos t, u \\tan s \\sin t, u \\right)\n",
    "$$\n",
    "\n",
    "where $s,t,u$ range over $[0,\\theta)$, $[0,2\\pi)$, and $[0,h]$, respectively. Actually, Wolfram Mathworld has a simpler parameterization with only two parameters:\n",
    "\n",
    "$$\n",
    "x = \\frac{h-u}{h} r \\cos\\theta\t\\\\\n",
    "y = \\frac{h-u}{h} r \\sin\\theta\t\\\\\n",
    "z = u\n",
    "$$\n",
    "\n",
    "for $u$ in $[0,h]$ and $\\theta$ in $[0,2\\pi)$."
   ]
  },
  {
   "cell_type": "code",
   "execution_count": null,
   "metadata": {},
   "outputs": [],
   "source": [
    "def plot_cone_3(height, radius, N_steps=20):\n",
    "    \"\"\"\n",
    "    Draw a cone.\n",
    "    \n",
    "    height: height along the z-axis\n",
    "    radius: radius of the circle\n",
    "    \"\"\"\n",
    "    h, r, u, theta = sy.symbols('h, r, u, theta')\n",
    "    x_eqn = (h - u) / h * r * sy.cos(theta)\n",
    "    y_eqn = (h - u) / h * r * sy.sin(theta)\n",
    "    z_eqn = u\n",
    "            \n",
    "    # get box limits in two dimensions\n",
    "#     x_lim = ipv.pylab.gcf().xlim\n",
    "#     z_lim = ipv.pylab.gcf().zlim\n",
    "#     x_steps = np.linspace(*x_lim, 20)\n",
    "#     z_steps = np.linspace(*z_lim, 20)\n",
    "#     x_array, z_array = np.meshgrid(x_steps, z_steps)\n",
    "    u_steps = np.linspace(0, height, N_steps)\n",
    "    theta_steps = np.linspace(0, 2 * np.pi, N_steps)\n",
    "    u_array, theta_array = np.meshgrid(u_steps, theta_steps)\n",
    "    \n",
    "    y_lim = ipv.pylab.gcf().ylim\n",
    "    \n",
    "    # find corresponding y coordinates\n",
    "    x, y, z = [], [], []\n",
    "    for ui, thetai in zip(u_array.flatten(), theta_array.flatten()):\n",
    "        x.append(float(x_eqn.evalf(subs={h: height, r: radius, u: ui, theta: thetai})))\n",
    "        y.append(float(y_eqn.evalf(subs={h: height, r: radius, u: ui, theta: thetai})))\n",
    "        z.append(float(z_eqn.evalf(subs={h: height, r: radius, u: ui, theta: thetai})))\n",
    "\n",
    "    # plot\n",
    "    ipv.plot_surface(np.array(x).reshape(u_array.shape),\n",
    "                     np.array(y).reshape(u_array.shape),\n",
    "                     np.array(z).reshape(u_array.shape))\n",
    "    \n",
    "#     ipv.ylim(*y_lim)"
   ]
  },
  {
   "cell_type": "code",
   "execution_count": null,
   "metadata": {},
   "outputs": [],
   "source": [
    "ipv.clear()\n",
    "ipv.scatter(*xyz, marker='circle_2d')\n",
    "plot_cone_3(0.5, 0.5)\n",
    "ipv.show()"
   ]
  },
  {
   "cell_type": "code",
   "execution_count": null,
   "metadata": {},
   "outputs": [],
   "source": [
    "ipv.clear()\n",
    "ipv.scatter(*xyz, marker='circle_2d')\n",
    "plot_cone_3(1, 0.5)\n",
    "ipv.show()"
   ]
  },
  {
   "cell_type": "code",
   "execution_count": null,
   "metadata": {},
   "outputs": [],
   "source": [
    "def plot_cone_4(height, radius, rot_x=2*np.pi, rot_y=2*np.pi, N_steps=20):\n",
    "    \"\"\"\n",
    "    Draw a cone.\n",
    "    \n",
    "    height: height along the z-axis\n",
    "    radius: radius of the circle\n",
    "    rot_y: rotation angle about the y axis (radians)\n",
    "    rot_z: rotation angle about the z axis (radians)\n",
    "    N_steps: number of steps in the parametric range used for drawing\n",
    "    \"\"\"\n",
    "    h, r, u, theta = sy.symbols('h, r, u, theta')\n",
    "    x_eqn = (h - u) / h * r * sy.cos(theta)\n",
    "    y_eqn = (h - u) / h * r * sy.sin(theta)\n",
    "    z_eqn = u\n",
    "\n",
    "    x_rot_x = x_eqn\n",
    "    y_rot_x = y_eqn * sy.cos(rot_x) + z_eqn * sy.sin(rot_x)\n",
    "    z_rot_x = - y_eqn * sy.sin(rot_x) + z_eqn * sy.cos(rot_x)\n",
    "\n",
    "    x_rot_y = x_rot_x * sy.cos(rot_y) + z_rot_x * sy.sin(rot_y)\n",
    "    y_rot_y = y_rot_x\n",
    "    z_rot_y = - x_rot_x * sy.sin(rot_y) + z_rot_x * sy.cos(rot_y)\n",
    "            \n",
    "    # get box limits in two dimensions\n",
    "#     x_lim = ipv.pylab.gcf().xlim\n",
    "#     z_lim = ipv.pylab.gcf().zlim\n",
    "#     x_steps = np.linspace(*x_lim, 20)\n",
    "#     z_steps = np.linspace(*z_lim, 20)\n",
    "#     x_array, z_array = np.meshgrid(x_steps, z_steps)\n",
    "    u_steps = np.linspace(0, height, N_steps)\n",
    "    theta_steps = np.linspace(0, 2 * np.pi, N_steps)\n",
    "    u_array, theta_array = np.meshgrid(u_steps, theta_steps)\n",
    "    \n",
    "    y_lim = ipv.pylab.gcf().ylim\n",
    "    \n",
    "    # find corresponding y coordinates\n",
    "    x, y, z = [], [], []\n",
    "    for ui, thetai in zip(u_array.flatten(), theta_array.flatten()):\n",
    "        x.append(float(x_rot_y.evalf(subs={h: height, r: radius, u: ui, theta: thetai})))\n",
    "        y.append(float(y_rot_y.evalf(subs={h: height, r: radius, u: ui, theta: thetai})))\n",
    "        z.append(float(z_rot_y.evalf(subs={h: height, r: radius, u: ui, theta: thetai})))\n",
    "\n",
    "    # plot\n",
    "    ipv.plot_surface(np.array(x).reshape(u_array.shape),\n",
    "                     np.array(y).reshape(u_array.shape),\n",
    "                     np.array(z).reshape(u_array.shape))\n",
    "    \n",
    "#     ipv.ylim(*y_lim)"
   ]
  },
  {
   "cell_type": "code",
   "execution_count": null,
   "metadata": {},
   "outputs": [],
   "source": [
    "ipv.clear()\n",
    "ipv.scatter(*xyz, marker='circle_2d')\n",
    "plot_cone_4(1, 0.5, rot_y=np.pi/4)#, rot_z=np.pi/2)\n",
    "ipv.show()"
   ]
  },
  {
   "cell_type": "code",
   "execution_count": null,
   "metadata": {},
   "outputs": [],
   "source": [
    "ipv.clear()\n",
    "ipv.scatter(*xyz, marker='circle_2d')\n",
    "plot_cone_4(1, 0.5, rot_x=np.pi/9)#, rot_z=np.pi/2)\n",
    "ipv.show()"
   ]
  },
  {
   "cell_type": "code",
   "execution_count": null,
   "metadata": {},
   "outputs": [],
   "source": [
    "ipv.clear()\n",
    "ipv.scatter(*xyz, marker='circle_2d')\n",
    "plot_cone_4(1, 0.5, rot_x=np.pi/9, rot_y=np.pi/4)#, rot_z=np.pi/2)\n",
    "ipv.show()"
   ]
  },
  {
   "cell_type": "markdown",
   "metadata": {},
   "source": [
    "Ok, this we can work with, it rotates as expected. Probably, we should also add a version with a direction vector, but this will do for now.\n",
    "\n",
    "Now just add a translation vector."
   ]
  },
  {
   "cell_type": "code",
   "execution_count": null,
   "metadata": {},
   "outputs": [],
   "source": [
    "def plot_cone_5(height, radius, rot_x=2*np.pi, rot_y=2*np.pi, base_pos=(0, 0, 0), N_steps=20):\n",
    "    \"\"\"\n",
    "    Draw a cone.\n",
    "    \n",
    "    height: height along the z-axis\n",
    "    radius: radius of the circle\n",
    "    rot_y: rotation angle about the y axis (radians)\n",
    "    rot_z: rotation angle about the z axis (radians)\n",
    "    base_pos: translation of base of cone to this position, iterable of three numbers\n",
    "    N_steps: number of steps in the parametric range used for drawing\n",
    "    \"\"\"\n",
    "    h, r, u, theta = sy.symbols('h, r, u, theta')\n",
    "    x_eqn = (h - u) / h * r * sy.cos(theta)\n",
    "    y_eqn = (h - u) / h * r * sy.sin(theta)\n",
    "    z_eqn = u\n",
    "\n",
    "    x_rot_x = x_eqn\n",
    "    y_rot_x = y_eqn * sy.cos(rot_x) + z_eqn * sy.sin(rot_x)\n",
    "    z_rot_x = - y_eqn * sy.sin(rot_x) + z_eqn * sy.cos(rot_x)\n",
    "\n",
    "    x_rot_y = x_rot_x * sy.cos(rot_y) + z_rot_x * sy.sin(rot_y) + base_pos[0]\n",
    "    y_rot_y = y_rot_x + base_pos[1]\n",
    "    z_rot_y = - x_rot_x * sy.sin(rot_y) + z_rot_x * sy.cos(rot_y) + base_pos[2]\n",
    "            \n",
    "    # get box limits in two dimensions\n",
    "#     x_lim = ipv.pylab.gcf().xlim\n",
    "#     z_lim = ipv.pylab.gcf().zlim\n",
    "#     x_steps = np.linspace(*x_lim, 20)\n",
    "#     z_steps = np.linspace(*z_lim, 20)\n",
    "#     x_array, z_array = np.meshgrid(x_steps, z_steps)\n",
    "    u_steps = np.linspace(0, height, N_steps)\n",
    "    theta_steps = np.linspace(0, 2 * np.pi, N_steps)\n",
    "    u_array, theta_array = np.meshgrid(u_steps, theta_steps)\n",
    "    \n",
    "    y_lim = ipv.pylab.gcf().ylim\n",
    "    \n",
    "    # find corresponding y coordinates\n",
    "    x, y, z = [], [], []\n",
    "    for ui, thetai in zip(u_array.flatten(), theta_array.flatten()):\n",
    "        x.append(float(x_rot_y.evalf(subs={h: height, r: radius, u: ui, theta: thetai})))\n",
    "        y.append(float(y_rot_y.evalf(subs={h: height, r: radius, u: ui, theta: thetai})))\n",
    "        z.append(float(z_rot_y.evalf(subs={h: height, r: radius, u: ui, theta: thetai})))\n",
    "\n",
    "    # plot\n",
    "    ipv.plot_surface(np.array(x).reshape(u_array.shape),\n",
    "                     np.array(y).reshape(u_array.shape),\n",
    "                     np.array(z).reshape(u_array.shape))\n",
    "    \n",
    "#     ipv.ylim(*y_lim)"
   ]
  },
  {
   "cell_type": "code",
   "execution_count": null,
   "metadata": {},
   "outputs": [],
   "source": [
    "ipv.clear()\n",
    "ipv.scatter(*xyz, marker='circle_2d')\n",
    "plot_cone_5(0.5, 0.5, rot_x=np.pi/9, rot_y=np.pi/4, base_pos=(0, 0.5, 0))#, rot_z=np.pi/2)\n",
    "ipv.show()"
   ]
  },
  {
   "cell_type": "markdown",
   "metadata": {},
   "source": [
    "Ok, that's it, now a thick cone..."
   ]
  },
  {
   "cell_type": "code",
   "execution_count": null,
   "metadata": {},
   "outputs": [],
   "source": []
  }
 ],
 "metadata": {
  "language_info": {
   "name": "python",
   "pygments_lexer": "ipython3"
  }
 },
 "nbformat": 4,
 "nbformat_minor": 2
}
