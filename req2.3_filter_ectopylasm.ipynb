{
 "cells": [
  {
   "cell_type": "markdown",
   "metadata": {},
   "source": [
    "The same as in req2.1 and 2.2, but now cleanly from ectopylasm."
   ]
  },
  {
   "cell_type": "code",
   "execution_count": null,
   "metadata": {},
   "outputs": [],
   "source": [
    "import numpy as np\n",
    "import ectopylasm as ep\n",
    "import ipyvolume as ipv"
   ]
  },
  {
   "cell_type": "code",
   "execution_count": null,
   "metadata": {},
   "outputs": [],
   "source": [
    "xyz = np.array((np.random.random(1000), np.random.random(1000), np.random.random(1000)))"
   ]
  },
  {
   "cell_type": "markdown",
   "metadata": {},
   "source": [
    "# Define shapes"
   ]
  },
  {
   "cell_type": "code",
   "execution_count": null,
   "metadata": {},
   "outputs": [],
   "source": [
    "thickness = 0.2\n",
    "\n",
    "# plane\n",
    "point = (0.5, 0.5, 0.5)\n",
    "normal = (0, 1, 0)  # make it normalized to one\n",
    "\n",
    "# cone\n",
    "height = 0.5\n",
    "radius = 0.5\n",
    "base_pos = ep.Point(0.5, 0.5, 0.5)\n",
    "cone = ep.Cone(height, radius, base_pos=base_pos)"
   ]
  },
  {
   "cell_type": "markdown",
   "metadata": {},
   "source": [
    "# Filter points"
   ]
  },
  {
   "cell_type": "code",
   "execution_count": null,
   "metadata": {},
   "outputs": [],
   "source": [
    "plane_points = ep.filter_points_plane(xyz, point, normal, thickness)"
   ]
  },
  {
   "cell_type": "code",
   "execution_count": null,
   "metadata": {},
   "outputs": [],
   "source": [
    "cone_points = ep.filter_points_cone(xyz, cone, thickness)"
   ]
  },
  {
   "cell_type": "markdown",
   "metadata": {},
   "source": [
    "Note that plane points filtering is still very slow (on 18 July 2019, 8:41, it takes 1-2 minutes), this will be optimized later.\n",
    "\n",
    "# Plot results"
   ]
  },
  {
   "cell_type": "code",
   "execution_count": null,
   "metadata": {},
   "outputs": [],
   "source": [
    "ipv.clear()\n",
    "ipv.scatter(*xyz, marker='circle_2d')\n",
    "ep.plot_thick_plane(point, normal, thickness, color='green')\n",
    "ipv.scatter(*np.array(plane_points).T, marker='circle_2d', color='green')\n",
    "ep.plot_thick_cone(cone, thickness)\n",
    "ipv.scatter(*np.array(cone_points).T, marker='circle_2d', color='blue')\n",
    "ipv.show()"
   ]
  },
  {
   "cell_type": "code",
   "execution_count": null,
   "metadata": {},
   "outputs": [],
   "source": []
  }
 ],
 "metadata": {
  "language_info": {
   "name": "python",
   "pygments_lexer": "ipython3"
  }
 },
 "nbformat": 4,
 "nbformat_minor": 2
}
