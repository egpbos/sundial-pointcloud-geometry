{
 "cells": [
  {
   "cell_type": "code",
   "execution_count": null,
   "metadata": {},
   "outputs": [],
   "source": [
    "import numpy as np\n",
    "import symfit as sf\n",
    "import matplotlib.pyplot as plt"
   ]
  },
  {
   "cell_type": "code",
   "execution_count": null,
   "metadata": {},
   "outputs": [],
   "source": [
    "ZERO = np.zeros(20)\n",
    "X = np.linspace(0, 1, 20)\n",
    "Y = 1 + X * 0.5 + np.random.normal(0, 0.05, 20)"
   ]
  },
  {
   "cell_type": "code",
   "execution_count": null,
   "metadata": {},
   "outputs": [],
   "source": [
    "a, b = sf.parameters('a, b')\n",
    "x, y, zero = sf.variables('x, y, zero')\n",
    "\n",
    "model = {zero: a + b*x - y}\n",
    "\n",
    "fit = sf.Fit(model, x=X, y=Y, zero=ZERO)\n",
    "res = fit.execute()\n",
    "print(res)"
   ]
  },
  {
   "cell_type": "code",
   "execution_count": null,
   "metadata": {},
   "outputs": [],
   "source": [
    "plt.plot(X, Y, marker='x', lw=0)\n",
    "plt.plot(plt.xlim(), (res.params['a'] + res.params['b'] * plt.xlim()[0],\n",
    "                      res.params['a'] + res.params['b'] * plt.xlim()[1]))"
   ]
  },
  {
   "cell_type": "code",
   "execution_count": null,
   "metadata": {},
   "outputs": [],
   "source": []
  }
 ],
 "metadata": {
  "language_info": {
   "name": "python",
   "pygments_lexer": "ipython3"
  }
 },
 "nbformat": 4,
 "nbformat_minor": 2
}
