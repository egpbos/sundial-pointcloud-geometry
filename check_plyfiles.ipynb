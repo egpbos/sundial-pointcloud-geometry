{
 "cells": [
  {
   "cell_type": "code",
   "execution_count": null,
   "metadata": {},
   "outputs": [],
   "source": [
    "import plyfile"
   ]
  },
  {
   "cell_type": "code",
   "execution_count": null,
   "metadata": {},
   "outputs": [],
   "source": [
    "# %%time\n",
    "\n",
    "# plydata = plyfile.PlyData.read('ObjID126.ply')"
   ]
  },
  {
   "cell_type": "code",
   "execution_count": null,
   "metadata": {},
   "outputs": [],
   "source": [
    "# %%time\n",
    "\n",
    "# plydata_full = plyfile.PlyData.read('ObjID126.full.ply')"
   ]
  },
  {
   "cell_type": "code",
   "execution_count": null,
   "metadata": {},
   "outputs": [],
   "source": [
    "plydata = plyfile.PlyData.read('ObjID126.ply')"
   ]
  },
  {
   "cell_type": "code",
   "execution_count": null,
   "metadata": {},
   "outputs": [],
   "source": [
    "# plydata_full = plyfile.PlyData.read('ObjID126.full.ply')"
   ]
  },
  {
   "cell_type": "code",
   "execution_count": null,
   "metadata": {},
   "outputs": [],
   "source": [
    "# plydata_full"
   ]
  },
  {
   "cell_type": "code",
   "execution_count": null,
   "metadata": {},
   "outputs": [],
   "source": [
    "# plydata_full['vertex']['z']"
   ]
  },
  {
   "cell_type": "code",
   "execution_count": null,
   "metadata": {},
   "outputs": [],
   "source": [
    "import pptk\n",
    "import numpy as np"
   ]
  },
  {
   "cell_type": "code",
   "execution_count": null,
   "metadata": {},
   "outputs": [],
   "source": [
    "# pptk.viewer([plydata_full['vertex']['x'], plydata_full['vertex']['y'], plydata_full['vertex']['z']])"
   ]
  },
  {
   "cell_type": "markdown",
   "metadata": {},
   "source": [
    "Weird, that doesn't look like the dataset at all..."
   ]
  },
  {
   "cell_type": "code",
   "execution_count": null,
   "metadata": {},
   "outputs": [],
   "source": [
    "import ipyvolume"
   ]
  },
  {
   "cell_type": "code",
   "execution_count": null,
   "metadata": {},
   "outputs": [],
   "source": [
    "xyz = dict(x=plydata['vertex']['x'], y=plydata['vertex']['y'], z=plydata['vertex']['z'])"
   ]
  },
  {
   "cell_type": "code",
   "execution_count": null,
   "metadata": {},
   "outputs": [],
   "source": [
    "sample_frac = 0.4\n",
    "sample = np.random.choice(plydata['vertex'].count, int(sample_frac * plydata['vertex'].count), replace=False)\n",
    "int(sample_frac * plydata['vertex'].count)"
   ]
  },
  {
   "cell_type": "code",
   "execution_count": null,
   "metadata": {},
   "outputs": [],
   "source": [
    "xyz_sample = dict(x=plydata['vertex']['x'][sample], y=plydata['vertex']['y'][sample], z=plydata['vertex']['z'][sample])"
   ]
  },
  {
   "cell_type": "code",
   "execution_count": null,
   "metadata": {},
   "outputs": [],
   "source": [
    "# ipyvolume.scatter(x=plydata_full['vertex']['x'], y=plydata_full['vertex']['y'], z=plydata_full['vertex']['z'])\n",
    "ipyvolume.scatter(**xyz, shape='circle_2d')\n",
    "# ipyvolume.scatter(**xyz_sample, shape='circle_2d')\n",
    "ipyvolume.show()"
   ]
  },
  {
   "cell_type": "markdown",
   "metadata": {},
   "source": [
    "Ok, this is what we want to see!\n",
    "\n",
    "Had to tweak the sample size a bit, the full data set (588373 vertices) is too big to visualize responsively. 10% of that is still fine. 20% works as well, though zooming becomes a bit laggy already. In both cases however, the lines on the solar dial are not visible, so that's problematic. 40% (235349 points) is really slow, lags especially when zooming, though still workable, and here you can sometimes start to glimpse a line.\n",
    "\n",
    "The point size doesn't seem to make any difference... zero size (point) would be nice, that should be a lot faster as well.\n",
    "\n",
    "Ah, but the shape makes a lot of difference! The fastest shape is 'circle_2d', a simple sprite. `pptk` is using just dots, which could make it even faster. This should be implemented in `ipyvolume` as well."
   ]
  },
  {
   "cell_type": "code",
   "execution_count": null,
   "metadata": {},
   "outputs": [],
   "source": [
    "pptk.viewer(np.array([plydata['vertex']['x'], plydata['vertex']['y'], plydata['vertex']['z']]).T)"
   ]
  },
  {
   "cell_type": "code",
   "execution_count": null,
   "metadata": {},
   "outputs": [],
   "source": [
    "plydata['vertex'].count"
   ]
  },
  {
   "cell_type": "code",
   "execution_count": null,
   "metadata": {},
   "outputs": [],
   "source": []
  }
 ],
 "metadata": {
  "language_info": {
   "name": "python",
   "pygments_lexer": "ipython3"
  }
 },
 "nbformat": 4,
 "nbformat_minor": 2
}
