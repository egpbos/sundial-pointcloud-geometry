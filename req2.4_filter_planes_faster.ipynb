{
 "cells": [
  {
   "cell_type": "code",
   "execution_count": null,
   "metadata": {},
   "outputs": [],
   "source": [
    "import numpy as np\n",
    "import ectopylasm as ep\n",
    "import ipyvolume as ipv"
   ]
  },
  {
   "cell_type": "code",
   "execution_count": null,
   "metadata": {},
   "outputs": [],
   "source": [
    "%load_ext line_profiler"
   ]
  },
  {
   "cell_type": "markdown",
   "metadata": {},
   "source": [
    "# Mock data\n",
    "Let's do only 100 points here."
   ]
  },
  {
   "cell_type": "code",
   "execution_count": null,
   "metadata": {},
   "outputs": [],
   "source": [
    "xyz = np.array((np.random.random(100), np.random.random(100), np.random.random(100)))"
   ]
  },
  {
   "cell_type": "markdown",
   "metadata": {},
   "source": [
    "# Define shape"
   ]
  },
  {
   "cell_type": "code",
   "execution_count": null,
   "metadata": {},
   "outputs": [],
   "source": [
    "thickness = 0.2\n",
    "\n",
    "# plane\n",
    "point = (0.5, 0.5, 0.5)\n",
    "normal = (0, 1, 0)  # make it normalized to one"
   ]
  },
  {
   "cell_type": "markdown",
   "metadata": {},
   "source": [
    "# Filter points"
   ]
  },
  {
   "cell_type": "code",
   "execution_count": null,
   "metadata": {},
   "outputs": [],
   "source": [
    "import sympy as sy\n",
    "import tqdm"
   ]
  },
  {
   "cell_type": "code",
   "execution_count": null,
   "metadata": {},
   "outputs": [],
   "source": [
    "def filter_points_plane_slow(points_xyz, plane_point, plane_normal, plane_thickness, d=None):\n",
    "    \"\"\"\n",
    "    Select the points that are within the thick plane.\n",
    "\n",
    "    points_xyz: a vector of shape (3, N) representing N points in 3D space\n",
    "    plane_point: a point in the plane\n",
    "    plane_normal: the normal vector to the plane (x, y, z; any iterable)\n",
    "    plane_thickness: the thickness of the plane (the distance between the two\n",
    "                     composing planes)\n",
    "    d [optional]: the constant in the plane equation ax + by + cz + d = 0; if\n",
    "                  specified, `plane_point` will be ignored\n",
    "    \"\"\"\n",
    "    if d is not None:\n",
    "        plane_point = ep.plane_point_from_d(plane_normal, d)\n",
    "    point1, point2 = ep.thick_plane_points(plane_point, plane_normal, plane_thickness)\n",
    "    plane1 = sy.geometry.Plane(sy.geometry.Point3D(point1), normal_vector=plane_normal)\n",
    "    plane2 = sy.geometry.Plane(sy.geometry.Point3D(point2), normal_vector=plane_normal)\n",
    "\n",
    "    p_filtered = []\n",
    "    for p_i in tqdm.tqdm(points_xyz.T):\n",
    "        sy_point_i = sy.geometry.Point3D(tuple(p_i))\n",
    "        if plane1.distance(sy_point_i) <= plane_thickness and plane2.distance(sy_point_i) <= plane_thickness:\n",
    "            p_filtered.append(p_i)\n",
    "    return p_filtered"
   ]
  },
  {
   "cell_type": "code",
   "execution_count": null,
   "metadata": {},
   "outputs": [],
   "source": [
    "plane_points = ep.filter_points_plane(xyz, point, normal, thickness)"
   ]
  },
  {
   "cell_type": "code",
   "execution_count": null,
   "metadata": {},
   "outputs": [],
   "source": [
    "%lprun -f filter_points_plane_slow plane_points = filter_points_plane_slow(xyz, point, normal, thickness)"
   ]
  },
  {
   "cell_type": "markdown",
   "metadata": {},
   "source": [
    "This gives the following output:\n",
    "\n",
    "```\n",
    "Timer unit: 1e-06 s\n",
    "\n",
    "Total time: 28.1696 s\n",
    "File: <ipython-input-13-5c9e992f6bd9>\n",
    "Function: filter_points_plane_slow at line 1\n",
    "\n",
    "Line #      Hits         Time  Per Hit   % Time  Line Contents\n",
    "==============================================================\n",
    "     1                                           def filter_points_plane_slow(points_xyz, plane_point, plane_normal, plane_thickness, d=None):\n",
    "     2                                               \"\"\"\n",
    "     3                                               Select the points that are within the thick plane.\n",
    "     4                                           \n",
    "     5                                               points_xyz: a vector of shape (3, N) representing N points in 3D space\n",
    "     6                                               plane_point: a point in the plane\n",
    "     7                                               plane_normal: the normal vector to the plane (x, y, z; any iterable)\n",
    "     8                                               plane_thickness: the thickness of the plane (the distance between the two\n",
    "     9                                                                composing planes)\n",
    "    10                                               d [optional]: the constant in the plane equation ax + by + cz + d = 0; if\n",
    "    11                                                             specified, `plane_point` will be ignored\n",
    "    12                                               \"\"\"\n",
    "    13         1          2.0      2.0      0.0      if d is not None:\n",
    "    14                                                   plane_point = ep.plane_point_from_d(plane_normal, d)\n",
    "    15         1         16.0     16.0      0.0      point1, point2 = ep.thick_plane_points(plane_point, plane_normal, plane_thickness)\n",
    "    16         1      17209.0  17209.0      0.1      plane1 = sy.geometry.Plane(sy.geometry.Point3D(point1), normal_vector=plane_normal)\n",
    "    17         1       8052.0   8052.0      0.0      plane2 = sy.geometry.Plane(sy.geometry.Point3D(point2), normal_vector=plane_normal)\n",
    "    18                                           \n",
    "    19         1          1.0      1.0      0.0      p_filtered = []\n",
    "    20       101      91274.0    903.7      0.3      for p_i in tqdm.tqdm(points_xyz.T):\n",
    "    21       100   26006837.0 260068.4     92.3          sy_point_i = sy.geometry.Point3D(tuple(p_i))\n",
    "    22       100    2046189.0  20461.9      7.3          if plane1.distance(sy_point_i) <= plane_thickness and plane2.distance(sy_point_i) <= plane_thickness:\n",
    "    23        17         38.0      2.2      0.0              p_filtered.append(p_i)\n",
    "    24         1          2.0      2.0      0.0      return p_filtered\n",
    "```\n",
    "\n",
    "Really surprising result! I would have thought the distance calculation would be the slowest, but in fact the Point3D construction is **ridiculously** slow! So we definitely need to get rid of this whole `sympy.geometry` thing."
   ]
  },
  {
   "cell_type": "code",
   "execution_count": null,
   "metadata": {},
   "outputs": [],
   "source": [
    "def plane_d(point, normal):\n",
    "    \"\"\"\n",
    "    Calculate d factor in plane equation ax + by + cz + d = 0\n",
    "    \"\"\"\n",
    "    return -(point[0] * normal[0] + point[1] * normal[1] + point[2] * normal[2])"
   ]
  },
  {
   "cell_type": "code",
   "execution_count": null,
   "metadata": {},
   "outputs": [],
   "source": [
    "def point_distance_to_plane(point, plane_point, plane_normal, d=None):\n",
    "    \"\"\"\n",
    "    Get signed distance of point to plane.\n",
    "    \n",
    "    The sign of the resulting distance tells you whether the point is in\n",
    "    the same or the opposite direction of the plane normal vector.\n",
    "\n",
    "    point: an iterable of length 3 representing a point in 3D space\n",
    "    plane_point: a point in the plane\n",
    "    plane_normal: the normal vector to the plane (x, y, z; any iterable)\n",
    "    d [optional]: the constant in the plane equation ax + by + cz + d = 0; if\n",
    "                  specified, `plane_point` will be ignored\n",
    "    \"\"\"\n",
    "    if d is None:\n",
    "        d = plane_d(plane_point, plane_normal)\n",
    "    \n",
    "    a, b, c = plane_normal\n",
    "    # from http://mathworld.wolfram.com/Point-PlaneDistance.html\n",
    "    return (a * point[0] + b * point[1] + c * point[2] + d) / np.sqrt(a**2 + b**2 + c**2)"
   ]
  },
  {
   "cell_type": "code",
   "execution_count": null,
   "metadata": {},
   "outputs": [],
   "source": [
    "def filter_points_plane_numpy(points_xyz, plane_point, plane_normal, plane_thickness, d=None):\n",
    "    \"\"\"\n",
    "    Select the points that are within the thick plane.\n",
    "\n",
    "    points_xyz: a vector of shape (3, N) representing N points in 3D space\n",
    "    plane_point: a point in the plane\n",
    "    plane_normal: the normal vector to the plane (x, y, z; any iterable)\n",
    "    plane_thickness: the thickness of the plane (the distance between the two\n",
    "                     composing planes)\n",
    "    d [optional]: the constant in the plane equation ax + by + cz + d = 0; if\n",
    "                  specified, `plane_point` will be ignored\n",
    "    \"\"\"\n",
    "    if d is not None:\n",
    "        plane_point = ep.plane_point_from_d(plane_normal, d)\n",
    "    point1, point2 = ep.thick_plane_points(plane_point, plane_normal, plane_thickness)\n",
    "\n",
    "    p_filtered = []\n",
    "    for p_i in points_xyz.T:\n",
    "        distance_1 = abs(point_distance_to_plane(p_i, point1, plane_normal))\n",
    "        distance_2 = abs(point_distance_to_plane(p_i, point2, plane_normal))\n",
    "        if distance_1 <= plane_thickness and distance_2 <= plane_thickness:\n",
    "            p_filtered.append(p_i)\n",
    "    return p_filtered"
   ]
  },
  {
   "cell_type": "code",
   "execution_count": null,
   "metadata": {},
   "outputs": [],
   "source": [
    "%timeit filter_points_plane_numpy(xyz, point, normal, thickness)"
   ]
  },
  {
   "cell_type": "code",
   "execution_count": null,
   "metadata": {},
   "outputs": [],
   "source": [
    "%lprun -f filter_points_plane_numpy plane_points = filter_points_plane_numpy(xyz, point, normal, thickness)"
   ]
  },
  {
   "cell_type": "markdown",
   "metadata": {},
   "source": [
    "This runs significantly faster. Interestingly, in a first iteration I still had tqdm in on the for loop, and that was then the dominant factor with 70% of runtime! Removing it shifted dominance to the distance functions, as we would expect:\n",
    "\n",
    "```\n",
    "Timer unit: 1e-06 s\n",
    "\n",
    "\n",
    "Total time: 0.001685 s\n",
    "File: <ipython-input-68-14cb67a3434b>\n",
    "Function: filter_points_plane_numpy at line 1\n",
    "\n",
    "Line #      Hits         Time  Per Hit   % Time  Line Contents\n",
    "==============================================================\n",
    "     1                                           def filter_points_plane_numpy(points_xyz, plane_point, plane_normal, plane_thickness, d=None):\n",
    "     2                                               \"\"\"\n",
    "     3                                               Select the points that are within the thick plane.\n",
    "     4                                           \n",
    "     5                                               points_xyz: a vector of shape (3, N) representing N points in 3D space\n",
    "     6                                               plane_point: a point in the plane\n",
    "     7                                               plane_normal: the normal vector to the plane (x, y, z; any iterable)\n",
    "     8                                               plane_thickness: the thickness of the plane (the distance between the two\n",
    "     9                                                                composing planes)\n",
    "    10                                               d [optional]: the constant in the plane equation ax + by + cz + d = 0; if\n",
    "    11                                                             specified, `plane_point` will be ignored\n",
    "    12                                               \"\"\"\n",
    "    13         1          1.0      1.0      0.1      if d is not None:\n",
    "    14                                                   plane_point = ep.plane_point_from_d(plane_normal, d)\n",
    "    15         1         11.0     11.0      0.7      point1, point2 = ep.thick_plane_points(plane_point, plane_normal, plane_thickness)\n",
    "    16                                           \n",
    "    17         1          0.0      0.0      0.0      p_filtered = []\n",
    "    18       101         96.0      1.0      5.7      for p_i in points_xyz.T:\n",
    "    19       100        759.0      7.6     45.0          distance_1 = abs(point_distance_to_plane(p_i, point1, plane_normal))\n",
    "    20       100        727.0      7.3     43.1          distance_2 = abs(point_distance_to_plane(p_i, point2, plane_normal))\n",
    "    21       100         77.0      0.8      4.6          if distance_1 <= plane_thickness and distance_2 <= plane_thickness:\n",
    "    22        17         14.0      0.8      0.8              p_filtered.append(p_i)\n",
    "    23         1          0.0      0.0      0.0      return p_filtered\n",
    "    \n",
    "```\n",
    "\n",
    "So this is an increase of a factor more than ~10000 in speed! Note that this is still with profiling on, and line_profiler seems to add an overhead of a factor ~4.   "
   ]
  },
  {
   "cell_type": "code",
   "execution_count": null,
   "metadata": {},
   "outputs": [],
   "source": [
    "28.1696 / 0.00203"
   ]
  },
  {
   "cell_type": "code",
   "execution_count": null,
   "metadata": {},
   "outputs": [],
   "source": [
    "%lprun -f point_distance_to_plane plane_points = filter_points_plane_numpy(xyz, point, normal, thickness)"
   ]
  },
  {
   "cell_type": "markdown",
   "metadata": {},
   "source": [
    "With this, we see that precalculating `d` can actually give an additional ~15% boost.\n",
    "\n",
    "```\n",
    "Timer unit: 1e-06 s\n",
    "\n",
    "Total time: 0.004167 s\n",
    "File: <ipython-input-34-3113593bd746>\n",
    "Function: point_distance_to_plane at line 1\n",
    "\n",
    "Line #      Hits         Time  Per Hit   % Time  Line Contents\n",
    "==============================================================\n",
    "     1                                           def point_distance_to_plane(point, plane_point, plane_normal, d=None):\n",
    "     2                                               \"\"\"\n",
    "     3                                               Get signed distance of point to plane.\n",
    "     4                                               \n",
    "     5                                               The sign of the resulting distance tells you whether the point is in\n",
    "     6                                               the same or the opposite direction of the plane normal vector.\n",
    "     7                                           \n",
    "     8                                               point: an iterable of length 3 representing a point in 3D space\n",
    "     9                                               plane_point: a point in the plane\n",
    "    10                                               plane_normal: the normal vector to the plane (x, y, z; any iterable)\n",
    "    11                                               d [optional]: the constant in the plane equation ax + by + cz + d = 0; if\n",
    "    12                                                             specified, `plane_point` will be ignored\n",
    "    13                                               \"\"\"\n",
    "    14       200        227.0      1.1      5.4      if d is None:\n",
    "    15       200        726.0      3.6     17.4          d = plane_d(plane_point, plane_normal)\n",
    "    16                                               \n",
    "    17       200        168.0      0.8      4.0      a, b, c = plane_normal\n",
    "    18                                               # from http://mathworld.wolfram.com/Point-PlaneDistance.html\n",
    "    19       200       3046.0     15.2     73.1      return (a * point[0] + b * point[1] + c * point[2] + d) / np.sqrt(a**2 + b**2 + c**2)```"
   ]
  },
  {
   "cell_type": "code",
   "execution_count": null,
   "metadata": {},
   "outputs": [],
   "source": [
    "# def point_distance_to_plane(point, plane_point, plane_normal, d=None):\n",
    "#     \"\"\"\n",
    "#     Get signed distance of point to plane.\n",
    "    \n",
    "#     The sign of the resulting distance tells you whether the point is in\n",
    "#     the same or the opposite direction of the plane normal vector.\n",
    "\n",
    "#     point: an iterable of length 3 representing a point in 3D space\n",
    "#     plane_point: a point in the plane\n",
    "#     plane_normal: the normal vector to the plane (x, y, z; any iterable)\n",
    "#     d [optional]: the constant in the plane equation ax + by + cz + d = 0; if\n",
    "#                   specified, `plane_point` will be ignored\n",
    "#     \"\"\"\n",
    "#     if d is None:\n",
    "#         d = plane_d(plane_point, plane_normal)\n",
    "    \n",
    "#     a, b, c = plane_normal\n",
    "#     plane_normal = np.array(plane_normal)\n",
    "#     # from http://mathworld.wolfram.com/Point-PlaneDistance.html\n",
    "#     return (np.sum(plane_normal * np.array(point)) + d) / np.sqrt(np.sum(plane_normal * plane_normal))"
   ]
  },
  {
   "cell_type": "code",
   "execution_count": null,
   "metadata": {},
   "outputs": [],
   "source": [
    "# %lprun -f point_distance_to_plane plane_points = filter_points_plane_numpy(xyz, point, normal, thickness)"
   ]
  },
  {
   "cell_type": "markdown",
   "metadata": {},
   "source": [
    "That increases runtime, so let's not.\n",
    "\n",
    "One last try, precalculating d:"
   ]
  },
  {
   "cell_type": "code",
   "execution_count": null,
   "metadata": {},
   "outputs": [],
   "source": [
    "def filter_points_plane_numpy(points_xyz, plane_point, plane_normal, plane_thickness, d=None):\n",
    "    \"\"\"\n",
    "    Select the points that are within the thick plane.\n",
    "\n",
    "    points_xyz: a vector of shape (3, N) representing N points in 3D space\n",
    "    plane_point: a point in the plane\n",
    "    plane_normal: the normal vector to the plane (x, y, z; any iterable)\n",
    "    plane_thickness: the thickness of the plane (the distance between the two\n",
    "                     composing planes)\n",
    "    d [optional]: the constant in the plane equation ax + by + cz + d = 0; if\n",
    "                  specified, `plane_point` will be ignored\n",
    "    \"\"\"\n",
    "    if d is not None:\n",
    "        plane_point = ep.plane_point_from_d(plane_normal, d)\n",
    "    plane_point_1, plane_point_2 = ep.thick_plane_points(plane_point, plane_normal, plane_thickness)\n",
    "    d1 = plane_d(plane_point_1, plane_normal)\n",
    "    d2 = plane_d(plane_point_2, plane_normal)\n",
    "\n",
    "    p_filtered = []\n",
    "    for p_i in points_xyz.T:\n",
    "        distance_1 = point_distance_to_plane(p_i, None, plane_normal, d=d1)\n",
    "        distance_2 = point_distance_to_plane(p_i, None, plane_normal, d=d2)\n",
    "        if abs(distance_1) <= plane_thickness and abs(distance_2) <= plane_thickness:\n",
    "            p_filtered.append(p_i)\n",
    "    return p_filtered"
   ]
  },
  {
   "cell_type": "code",
   "execution_count": null,
   "metadata": {},
   "outputs": [],
   "source": [
    "%timeit filter_points_plane_numpy(xyz, point, normal, thickness)"
   ]
  },
  {
   "cell_type": "code",
   "execution_count": null,
   "metadata": {},
   "outputs": [],
   "source": [
    "%lprun -f filter_points_plane_numpy plane_points = filter_points_plane_numpy(xyz, point, normal, thickness)"
   ]
  },
  {
   "cell_type": "code",
   "execution_count": null,
   "metadata": {},
   "outputs": [],
   "source": [
    "872/746"
   ]
  },
  {
   "cell_type": "markdown",
   "metadata": {},
   "source": [
    "Again a small gain. In the profiling runs there's too much noise to measure the exact gain, but the timeit run shows at least a factor 1.15 faster runs.\n",
    "\n",
    "```\n",
    "Timer unit: 1e-06 s\n",
    "\n",
    "Total time: 0.001374 s\n",
    "File: <ipython-input-72-00d6dddaec0d>\n",
    "Function: filter_points_plane_numpy at line 1\n",
    "\n",
    "Line #      Hits         Time  Per Hit   % Time  Line Contents\n",
    "==============================================================\n",
    "     1                                           def filter_points_plane_numpy(points_xyz, plane_point, plane_normal, plane_thickness, d=None):\n",
    "     2                                               \"\"\"\n",
    "     3                                               Select the points that are within the thick plane.\n",
    "     4                                           \n",
    "     5                                               points_xyz: a vector of shape (3, N) representing N points in 3D space\n",
    "     6                                               plane_point: a point in the plane\n",
    "     7                                               plane_normal: the normal vector to the plane (x, y, z; any iterable)\n",
    "     8                                               plane_thickness: the thickness of the plane (the distance between the two\n",
    "     9                                                                composing planes)\n",
    "    10                                               d [optional]: the constant in the plane equation ax + by + cz + d = 0; if\n",
    "    11                                                             specified, `plane_point` will be ignored\n",
    "    12                                               \"\"\"\n",
    "    13         1          2.0      2.0      0.1      if d is not None:\n",
    "    14                                                   plane_point = ep.plane_point_from_d(plane_normal, d)\n",
    "    15         1         12.0     12.0      0.9      plane_point_1, plane_point_2 = ep.thick_plane_points(plane_point, plane_normal, plane_thickness)\n",
    "    16         1          3.0      3.0      0.2      d1 = plane_d(plane_point_1, plane_normal)\n",
    "    17         1          1.0      1.0      0.1      d2 = plane_d(plane_point_2, plane_normal)\n",
    "    18                                           \n",
    "    19         1          0.0      0.0      0.0      p_filtered = []\n",
    "    20       101         92.0      0.9      6.7      for p_i in points_xyz.T:\n",
    "    21       100        595.0      6.0     43.3          distance_1 = point_distance_to_plane(p_i, None, plane_normal, d=d1)\n",
    "    22       100        566.0      5.7     41.2          distance_2 = point_distance_to_plane(p_i, None, plane_normal, d=d2)\n",
    "    23       100         87.0      0.9      6.3          if abs(distance_1) <= plane_thickness and abs(distance_2) <= plane_thickness:\n",
    "    24        17         16.0      0.9      1.2              p_filtered.append(p_i)\n",
    "    25         1          0.0      0.0      0.0      return p_filtered\n",
    "```"
   ]
  },
  {
   "cell_type": "markdown",
   "metadata": {},
   "source": [
    "That'll do for now. So in total, we went from:"
   ]
  },
  {
   "cell_type": "code",
   "execution_count": null,
   "metadata": {},
   "outputs": [],
   "source": [
    "%timeit filter_points_plane_slow(xyz, point, normal, thickness)"
   ]
  },
  {
   "cell_type": "markdown",
   "metadata": {},
   "source": [
    "... ~7 seconds to ~700 microseconds, i.e. a speed-up factor of 10000. Decent."
   ]
  },
  {
   "cell_type": "markdown",
   "metadata": {},
   "source": [
    "# Test\n",
    "\n",
    "Are the results the same though?"
   ]
  },
  {
   "cell_type": "code",
   "execution_count": null,
   "metadata": {},
   "outputs": [],
   "source": [
    "p_slow = filter_points_plane_slow(xyz, point, normal, thickness)\n",
    "p_numpy = filter_points_plane_numpy(xyz, point, normal, thickness)"
   ]
  },
  {
   "cell_type": "code",
   "execution_count": null,
   "metadata": {},
   "outputs": [],
   "source": [
    "np.array(p_slow) == np.array(p_numpy)"
   ]
  },
  {
   "cell_type": "markdown",
   "metadata": {},
   "source": [
    "Yessur!"
   ]
  },
  {
   "cell_type": "code",
   "execution_count": null,
   "metadata": {},
   "outputs": [],
   "source": []
  }
 ],
 "metadata": {
  "language_info": {
   "name": "python",
   "pygments_lexer": "ipython3"
  }
 },
 "nbformat": 4,
 "nbformat_minor": 2
}
